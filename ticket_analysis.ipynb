{
 "cells": [
  {
   "cell_type": "markdown",
   "id": "4a1ccf76-7a2d-4b0f-ada6-b40ebbc95eb7",
   "metadata": {},
   "source": [
    "# 🎫 TICKET ANALYSIS"
   ]
  },
  {
   "cell_type": "code",
   "execution_count": 2,
   "id": "2e3e7cfc-f4db-4769-a519-43fa5866b1fe",
   "metadata": {},
   "outputs": [],
   "source": [
    "import pandas as pd\n",
    "import numpy as np\n",
    "import matplotlib.pyplot as plt\n",
    "import seaborn as sns\n",
    "from scipy import stats"
   ]
  },
  {
   "cell_type": "markdown",
   "id": "ad1002b7-d416-42e7-986c-4be59d0523fb",
   "metadata": {},
   "source": [
    "### Data Loading"
   ]
  },
  {
   "cell_type": "code",
   "execution_count": 3,
   "id": "8de4eb05-f99d-453d-8bf7-f25b6acffc1e",
   "metadata": {},
   "outputs": [
    {
     "data": {
      "text/html": [
       "<div>\n",
       "<style scoped>\n",
       "    .dataframe tbody tr th:only-of-type {\n",
       "        vertical-align: middle;\n",
       "    }\n",
       "\n",
       "    .dataframe tbody tr th {\n",
       "        vertical-align: top;\n",
       "    }\n",
       "\n",
       "    .dataframe thead th {\n",
       "        text-align: right;\n",
       "    }\n",
       "</style>\n",
       "<table border=\"1\" class=\"dataframe\">\n",
       "  <thead>\n",
       "    <tr style=\"text-align: right;\">\n",
       "      <th></th>\n",
       "      <th>Ticket ID</th>\n",
       "      <th>Customer Name</th>\n",
       "      <th>Customer Email</th>\n",
       "      <th>Customer Age</th>\n",
       "      <th>Customer Gender</th>\n",
       "      <th>Product Purchased</th>\n",
       "      <th>Date of Purchase</th>\n",
       "      <th>Ticket Type</th>\n",
       "      <th>Ticket Subject</th>\n",
       "      <th>Ticket Description</th>\n",
       "      <th>Ticket Status</th>\n",
       "      <th>Resolution</th>\n",
       "      <th>Ticket Priority</th>\n",
       "      <th>Ticket Channel</th>\n",
       "      <th>First Response Time</th>\n",
       "      <th>Time to Resolution</th>\n",
       "      <th>Customer Satisfaction Rating</th>\n",
       "    </tr>\n",
       "  </thead>\n",
       "  <tbody>\n",
       "    <tr>\n",
       "      <th>0</th>\n",
       "      <td>1</td>\n",
       "      <td>Marisa Obrien</td>\n",
       "      <td>carrollallison@example.com</td>\n",
       "      <td>32</td>\n",
       "      <td>Other</td>\n",
       "      <td>GoPro Hero</td>\n",
       "      <td>2021-03-22</td>\n",
       "      <td>Technical issue</td>\n",
       "      <td>Product setup</td>\n",
       "      <td>I'm having an issue with the {product_purchase...</td>\n",
       "      <td>Pending Customer Response</td>\n",
       "      <td>NaN</td>\n",
       "      <td>Critical</td>\n",
       "      <td>Social media</td>\n",
       "      <td>2023-06-01 12:15:36</td>\n",
       "      <td>NaN</td>\n",
       "      <td>NaN</td>\n",
       "    </tr>\n",
       "    <tr>\n",
       "      <th>1</th>\n",
       "      <td>2</td>\n",
       "      <td>Jessica Rios</td>\n",
       "      <td>clarkeashley@example.com</td>\n",
       "      <td>42</td>\n",
       "      <td>Female</td>\n",
       "      <td>LG Smart TV</td>\n",
       "      <td>2021-05-22</td>\n",
       "      <td>Technical issue</td>\n",
       "      <td>Peripheral compatibility</td>\n",
       "      <td>I'm having an issue with the {product_purchase...</td>\n",
       "      <td>Pending Customer Response</td>\n",
       "      <td>NaN</td>\n",
       "      <td>Critical</td>\n",
       "      <td>Chat</td>\n",
       "      <td>2023-06-01 16:45:38</td>\n",
       "      <td>NaN</td>\n",
       "      <td>NaN</td>\n",
       "    </tr>\n",
       "    <tr>\n",
       "      <th>2</th>\n",
       "      <td>3</td>\n",
       "      <td>Christopher Robbins</td>\n",
       "      <td>gonzalestracy@example.com</td>\n",
       "      <td>48</td>\n",
       "      <td>Other</td>\n",
       "      <td>Dell XPS</td>\n",
       "      <td>2020-07-14</td>\n",
       "      <td>Technical issue</td>\n",
       "      <td>Network problem</td>\n",
       "      <td>I'm facing a problem with my {product_purchase...</td>\n",
       "      <td>Closed</td>\n",
       "      <td>Case maybe show recently my computer follow.</td>\n",
       "      <td>Low</td>\n",
       "      <td>Social media</td>\n",
       "      <td>2023-06-01 11:14:38</td>\n",
       "      <td>2023-06-01 18:05:38</td>\n",
       "      <td>3.0</td>\n",
       "    </tr>\n",
       "    <tr>\n",
       "      <th>3</th>\n",
       "      <td>4</td>\n",
       "      <td>Christina Dillon</td>\n",
       "      <td>bradleyolson@example.org</td>\n",
       "      <td>27</td>\n",
       "      <td>Female</td>\n",
       "      <td>Microsoft Office</td>\n",
       "      <td>2020-11-13</td>\n",
       "      <td>Billing inquiry</td>\n",
       "      <td>Account access</td>\n",
       "      <td>I'm having an issue with the {product_purchase...</td>\n",
       "      <td>Closed</td>\n",
       "      <td>Try capital clearly never color toward story.</td>\n",
       "      <td>Low</td>\n",
       "      <td>Social media</td>\n",
       "      <td>2023-06-01 07:29:40</td>\n",
       "      <td>2023-06-01 01:57:40</td>\n",
       "      <td>3.0</td>\n",
       "    </tr>\n",
       "    <tr>\n",
       "      <th>4</th>\n",
       "      <td>5</td>\n",
       "      <td>Alexander Carroll</td>\n",
       "      <td>bradleymark@example.com</td>\n",
       "      <td>67</td>\n",
       "      <td>Female</td>\n",
       "      <td>Autodesk AutoCAD</td>\n",
       "      <td>2020-02-04</td>\n",
       "      <td>Billing inquiry</td>\n",
       "      <td>Data loss</td>\n",
       "      <td>I'm having an issue with the {product_purchase...</td>\n",
       "      <td>Closed</td>\n",
       "      <td>West decision evidence bit.</td>\n",
       "      <td>Low</td>\n",
       "      <td>Email</td>\n",
       "      <td>2023-06-01 00:12:42</td>\n",
       "      <td>2023-06-01 19:53:42</td>\n",
       "      <td>1.0</td>\n",
       "    </tr>\n",
       "    <tr>\n",
       "      <th>...</th>\n",
       "      <td>...</td>\n",
       "      <td>...</td>\n",
       "      <td>...</td>\n",
       "      <td>...</td>\n",
       "      <td>...</td>\n",
       "      <td>...</td>\n",
       "      <td>...</td>\n",
       "      <td>...</td>\n",
       "      <td>...</td>\n",
       "      <td>...</td>\n",
       "      <td>...</td>\n",
       "      <td>...</td>\n",
       "      <td>...</td>\n",
       "      <td>...</td>\n",
       "      <td>...</td>\n",
       "      <td>...</td>\n",
       "      <td>...</td>\n",
       "    </tr>\n",
       "    <tr>\n",
       "      <th>8464</th>\n",
       "      <td>8465</td>\n",
       "      <td>David Todd</td>\n",
       "      <td>adam28@example.net</td>\n",
       "      <td>22</td>\n",
       "      <td>Female</td>\n",
       "      <td>LG OLED</td>\n",
       "      <td>2021-12-08</td>\n",
       "      <td>Product inquiry</td>\n",
       "      <td>Installation support</td>\n",
       "      <td>My {product_purchased} is making strange noise...</td>\n",
       "      <td>Open</td>\n",
       "      <td>NaN</td>\n",
       "      <td>Low</td>\n",
       "      <td>Phone</td>\n",
       "      <td>NaN</td>\n",
       "      <td>NaN</td>\n",
       "      <td>NaN</td>\n",
       "    </tr>\n",
       "    <tr>\n",
       "      <th>8465</th>\n",
       "      <td>8466</td>\n",
       "      <td>Lori Davis</td>\n",
       "      <td>russell68@example.com</td>\n",
       "      <td>27</td>\n",
       "      <td>Female</td>\n",
       "      <td>Bose SoundLink Speaker</td>\n",
       "      <td>2020-02-22</td>\n",
       "      <td>Technical issue</td>\n",
       "      <td>Refund request</td>\n",
       "      <td>I'm having an issue with the {product_purchase...</td>\n",
       "      <td>Open</td>\n",
       "      <td>NaN</td>\n",
       "      <td>Critical</td>\n",
       "      <td>Email</td>\n",
       "      <td>NaN</td>\n",
       "      <td>NaN</td>\n",
       "      <td>NaN</td>\n",
       "    </tr>\n",
       "    <tr>\n",
       "      <th>8466</th>\n",
       "      <td>8467</td>\n",
       "      <td>Michelle Kelley</td>\n",
       "      <td>ashley83@example.org</td>\n",
       "      <td>57</td>\n",
       "      <td>Female</td>\n",
       "      <td>GoPro Action Camera</td>\n",
       "      <td>2021-08-17</td>\n",
       "      <td>Technical issue</td>\n",
       "      <td>Account access</td>\n",
       "      <td>I'm having an issue with the {product_purchase...</td>\n",
       "      <td>Closed</td>\n",
       "      <td>Eight account century nature kitchen.</td>\n",
       "      <td>High</td>\n",
       "      <td>Social media</td>\n",
       "      <td>2023-06-01 09:44:22</td>\n",
       "      <td>2023-06-01 04:31:22</td>\n",
       "      <td>3.0</td>\n",
       "    </tr>\n",
       "    <tr>\n",
       "      <th>8467</th>\n",
       "      <td>8468</td>\n",
       "      <td>Steven Rodriguez</td>\n",
       "      <td>fpowell@example.org</td>\n",
       "      <td>54</td>\n",
       "      <td>Male</td>\n",
       "      <td>PlayStation</td>\n",
       "      <td>2021-10-16</td>\n",
       "      <td>Product inquiry</td>\n",
       "      <td>Payment issue</td>\n",
       "      <td>I'm having an issue with the {product_purchase...</td>\n",
       "      <td>Closed</td>\n",
       "      <td>We seat culture plan.</td>\n",
       "      <td>Medium</td>\n",
       "      <td>Email</td>\n",
       "      <td>2023-06-01 18:28:24</td>\n",
       "      <td>2023-06-01 05:32:24</td>\n",
       "      <td>3.0</td>\n",
       "    </tr>\n",
       "    <tr>\n",
       "      <th>8468</th>\n",
       "      <td>8469</td>\n",
       "      <td>Steven Davis MD</td>\n",
       "      <td>lori20@example.net</td>\n",
       "      <td>53</td>\n",
       "      <td>Other</td>\n",
       "      <td>Philips Hue Lights</td>\n",
       "      <td>2020-06-01</td>\n",
       "      <td>Billing inquiry</td>\n",
       "      <td>Hardware issue</td>\n",
       "      <td>There seems to be a hardware problem with my {...</td>\n",
       "      <td>Open</td>\n",
       "      <td>NaN</td>\n",
       "      <td>High</td>\n",
       "      <td>Phone</td>\n",
       "      <td>NaN</td>\n",
       "      <td>NaN</td>\n",
       "      <td>NaN</td>\n",
       "    </tr>\n",
       "  </tbody>\n",
       "</table>\n",
       "<p>8469 rows × 17 columns</p>\n",
       "</div>"
      ],
      "text/plain": [
       "      Ticket ID        Customer Name              Customer Email  \\\n",
       "0             1        Marisa Obrien  carrollallison@example.com   \n",
       "1             2         Jessica Rios    clarkeashley@example.com   \n",
       "2             3  Christopher Robbins   gonzalestracy@example.com   \n",
       "3             4     Christina Dillon    bradleyolson@example.org   \n",
       "4             5    Alexander Carroll     bradleymark@example.com   \n",
       "...         ...                  ...                         ...   \n",
       "8464       8465           David Todd          adam28@example.net   \n",
       "8465       8466           Lori Davis       russell68@example.com   \n",
       "8466       8467      Michelle Kelley        ashley83@example.org   \n",
       "8467       8468     Steven Rodriguez         fpowell@example.org   \n",
       "8468       8469      Steven Davis MD          lori20@example.net   \n",
       "\n",
       "      Customer Age Customer Gender       Product Purchased Date of Purchase  \\\n",
       "0               32           Other              GoPro Hero       2021-03-22   \n",
       "1               42          Female             LG Smart TV       2021-05-22   \n",
       "2               48           Other                Dell XPS       2020-07-14   \n",
       "3               27          Female        Microsoft Office       2020-11-13   \n",
       "4               67          Female        Autodesk AutoCAD       2020-02-04   \n",
       "...            ...             ...                     ...              ...   \n",
       "8464            22          Female                 LG OLED       2021-12-08   \n",
       "8465            27          Female  Bose SoundLink Speaker       2020-02-22   \n",
       "8466            57          Female     GoPro Action Camera       2021-08-17   \n",
       "8467            54            Male             PlayStation       2021-10-16   \n",
       "8468            53           Other      Philips Hue Lights       2020-06-01   \n",
       "\n",
       "          Ticket Type            Ticket Subject  \\\n",
       "0     Technical issue             Product setup   \n",
       "1     Technical issue  Peripheral compatibility   \n",
       "2     Technical issue           Network problem   \n",
       "3     Billing inquiry            Account access   \n",
       "4     Billing inquiry                 Data loss   \n",
       "...               ...                       ...   \n",
       "8464  Product inquiry      Installation support   \n",
       "8465  Technical issue            Refund request   \n",
       "8466  Technical issue            Account access   \n",
       "8467  Product inquiry             Payment issue   \n",
       "8468  Billing inquiry            Hardware issue   \n",
       "\n",
       "                                     Ticket Description  \\\n",
       "0     I'm having an issue with the {product_purchase...   \n",
       "1     I'm having an issue with the {product_purchase...   \n",
       "2     I'm facing a problem with my {product_purchase...   \n",
       "3     I'm having an issue with the {product_purchase...   \n",
       "4     I'm having an issue with the {product_purchase...   \n",
       "...                                                 ...   \n",
       "8464  My {product_purchased} is making strange noise...   \n",
       "8465  I'm having an issue with the {product_purchase...   \n",
       "8466  I'm having an issue with the {product_purchase...   \n",
       "8467  I'm having an issue with the {product_purchase...   \n",
       "8468  There seems to be a hardware problem with my {...   \n",
       "\n",
       "                  Ticket Status  \\\n",
       "0     Pending Customer Response   \n",
       "1     Pending Customer Response   \n",
       "2                        Closed   \n",
       "3                        Closed   \n",
       "4                        Closed   \n",
       "...                         ...   \n",
       "8464                       Open   \n",
       "8465                       Open   \n",
       "8466                     Closed   \n",
       "8467                     Closed   \n",
       "8468                       Open   \n",
       "\n",
       "                                         Resolution Ticket Priority  \\\n",
       "0                                               NaN        Critical   \n",
       "1                                               NaN        Critical   \n",
       "2      Case maybe show recently my computer follow.             Low   \n",
       "3     Try capital clearly never color toward story.             Low   \n",
       "4                       West decision evidence bit.             Low   \n",
       "...                                             ...             ...   \n",
       "8464                                            NaN             Low   \n",
       "8465                                            NaN        Critical   \n",
       "8466          Eight account century nature kitchen.            High   \n",
       "8467                          We seat culture plan.          Medium   \n",
       "8468                                            NaN            High   \n",
       "\n",
       "     Ticket Channel  First Response Time   Time to Resolution  \\\n",
       "0      Social media  2023-06-01 12:15:36                  NaN   \n",
       "1              Chat  2023-06-01 16:45:38                  NaN   \n",
       "2      Social media  2023-06-01 11:14:38  2023-06-01 18:05:38   \n",
       "3      Social media  2023-06-01 07:29:40  2023-06-01 01:57:40   \n",
       "4             Email  2023-06-01 00:12:42  2023-06-01 19:53:42   \n",
       "...             ...                  ...                  ...   \n",
       "8464          Phone                  NaN                  NaN   \n",
       "8465          Email                  NaN                  NaN   \n",
       "8466   Social media  2023-06-01 09:44:22  2023-06-01 04:31:22   \n",
       "8467          Email  2023-06-01 18:28:24  2023-06-01 05:32:24   \n",
       "8468          Phone                  NaN                  NaN   \n",
       "\n",
       "      Customer Satisfaction Rating  \n",
       "0                              NaN  \n",
       "1                              NaN  \n",
       "2                              3.0  \n",
       "3                              3.0  \n",
       "4                              1.0  \n",
       "...                            ...  \n",
       "8464                           NaN  \n",
       "8465                           NaN  \n",
       "8466                           3.0  \n",
       "8467                           3.0  \n",
       "8468                           NaN  \n",
       "\n",
       "[8469 rows x 17 columns]"
      ]
     },
     "execution_count": 3,
     "metadata": {},
     "output_type": "execute_result"
    }
   ],
   "source": [
    "df=pd.read_csv('customer_support_tickets.csv')\n",
    "df"
   ]
  },
  {
   "cell_type": "markdown",
   "id": "84b75c9c-ba74-4e6e-891c-8ab613c1cd23",
   "metadata": {},
   "source": [
    "### Data Preview"
   ]
  },
  {
   "cell_type": "code",
   "execution_count": 4,
   "id": "fcb82220-88bb-4134-a68b-1110e152415c",
   "metadata": {},
   "outputs": [
    {
     "data": {
      "text/html": [
       "<div>\n",
       "<style scoped>\n",
       "    .dataframe tbody tr th:only-of-type {\n",
       "        vertical-align: middle;\n",
       "    }\n",
       "\n",
       "    .dataframe tbody tr th {\n",
       "        vertical-align: top;\n",
       "    }\n",
       "\n",
       "    .dataframe thead th {\n",
       "        text-align: right;\n",
       "    }\n",
       "</style>\n",
       "<table border=\"1\" class=\"dataframe\">\n",
       "  <thead>\n",
       "    <tr style=\"text-align: right;\">\n",
       "      <th></th>\n",
       "      <th>Ticket ID</th>\n",
       "      <th>Customer Name</th>\n",
       "      <th>Customer Email</th>\n",
       "      <th>Customer Age</th>\n",
       "      <th>Customer Gender</th>\n",
       "      <th>Product Purchased</th>\n",
       "      <th>Date of Purchase</th>\n",
       "      <th>Ticket Type</th>\n",
       "      <th>Ticket Subject</th>\n",
       "      <th>Ticket Description</th>\n",
       "      <th>Ticket Status</th>\n",
       "      <th>Resolution</th>\n",
       "      <th>Ticket Priority</th>\n",
       "      <th>Ticket Channel</th>\n",
       "      <th>First Response Time</th>\n",
       "      <th>Time to Resolution</th>\n",
       "      <th>Customer Satisfaction Rating</th>\n",
       "    </tr>\n",
       "  </thead>\n",
       "  <tbody>\n",
       "    <tr>\n",
       "      <th>0</th>\n",
       "      <td>1</td>\n",
       "      <td>Marisa Obrien</td>\n",
       "      <td>carrollallison@example.com</td>\n",
       "      <td>32</td>\n",
       "      <td>Other</td>\n",
       "      <td>GoPro Hero</td>\n",
       "      <td>2021-03-22</td>\n",
       "      <td>Technical issue</td>\n",
       "      <td>Product setup</td>\n",
       "      <td>I'm having an issue with the {product_purchase...</td>\n",
       "      <td>Pending Customer Response</td>\n",
       "      <td>NaN</td>\n",
       "      <td>Critical</td>\n",
       "      <td>Social media</td>\n",
       "      <td>2023-06-01 12:15:36</td>\n",
       "      <td>NaN</td>\n",
       "      <td>NaN</td>\n",
       "    </tr>\n",
       "    <tr>\n",
       "      <th>1</th>\n",
       "      <td>2</td>\n",
       "      <td>Jessica Rios</td>\n",
       "      <td>clarkeashley@example.com</td>\n",
       "      <td>42</td>\n",
       "      <td>Female</td>\n",
       "      <td>LG Smart TV</td>\n",
       "      <td>2021-05-22</td>\n",
       "      <td>Technical issue</td>\n",
       "      <td>Peripheral compatibility</td>\n",
       "      <td>I'm having an issue with the {product_purchase...</td>\n",
       "      <td>Pending Customer Response</td>\n",
       "      <td>NaN</td>\n",
       "      <td>Critical</td>\n",
       "      <td>Chat</td>\n",
       "      <td>2023-06-01 16:45:38</td>\n",
       "      <td>NaN</td>\n",
       "      <td>NaN</td>\n",
       "    </tr>\n",
       "    <tr>\n",
       "      <th>2</th>\n",
       "      <td>3</td>\n",
       "      <td>Christopher Robbins</td>\n",
       "      <td>gonzalestracy@example.com</td>\n",
       "      <td>48</td>\n",
       "      <td>Other</td>\n",
       "      <td>Dell XPS</td>\n",
       "      <td>2020-07-14</td>\n",
       "      <td>Technical issue</td>\n",
       "      <td>Network problem</td>\n",
       "      <td>I'm facing a problem with my {product_purchase...</td>\n",
       "      <td>Closed</td>\n",
       "      <td>Case maybe show recently my computer follow.</td>\n",
       "      <td>Low</td>\n",
       "      <td>Social media</td>\n",
       "      <td>2023-06-01 11:14:38</td>\n",
       "      <td>2023-06-01 18:05:38</td>\n",
       "      <td>3.0</td>\n",
       "    </tr>\n",
       "    <tr>\n",
       "      <th>3</th>\n",
       "      <td>4</td>\n",
       "      <td>Christina Dillon</td>\n",
       "      <td>bradleyolson@example.org</td>\n",
       "      <td>27</td>\n",
       "      <td>Female</td>\n",
       "      <td>Microsoft Office</td>\n",
       "      <td>2020-11-13</td>\n",
       "      <td>Billing inquiry</td>\n",
       "      <td>Account access</td>\n",
       "      <td>I'm having an issue with the {product_purchase...</td>\n",
       "      <td>Closed</td>\n",
       "      <td>Try capital clearly never color toward story.</td>\n",
       "      <td>Low</td>\n",
       "      <td>Social media</td>\n",
       "      <td>2023-06-01 07:29:40</td>\n",
       "      <td>2023-06-01 01:57:40</td>\n",
       "      <td>3.0</td>\n",
       "    </tr>\n",
       "    <tr>\n",
       "      <th>4</th>\n",
       "      <td>5</td>\n",
       "      <td>Alexander Carroll</td>\n",
       "      <td>bradleymark@example.com</td>\n",
       "      <td>67</td>\n",
       "      <td>Female</td>\n",
       "      <td>Autodesk AutoCAD</td>\n",
       "      <td>2020-02-04</td>\n",
       "      <td>Billing inquiry</td>\n",
       "      <td>Data loss</td>\n",
       "      <td>I'm having an issue with the {product_purchase...</td>\n",
       "      <td>Closed</td>\n",
       "      <td>West decision evidence bit.</td>\n",
       "      <td>Low</td>\n",
       "      <td>Email</td>\n",
       "      <td>2023-06-01 00:12:42</td>\n",
       "      <td>2023-06-01 19:53:42</td>\n",
       "      <td>1.0</td>\n",
       "    </tr>\n",
       "  </tbody>\n",
       "</table>\n",
       "</div>"
      ],
      "text/plain": [
       "   Ticket ID        Customer Name              Customer Email  Customer Age  \\\n",
       "0          1        Marisa Obrien  carrollallison@example.com            32   \n",
       "1          2         Jessica Rios    clarkeashley@example.com            42   \n",
       "2          3  Christopher Robbins   gonzalestracy@example.com            48   \n",
       "3          4     Christina Dillon    bradleyolson@example.org            27   \n",
       "4          5    Alexander Carroll     bradleymark@example.com            67   \n",
       "\n",
       "  Customer Gender Product Purchased Date of Purchase      Ticket Type  \\\n",
       "0           Other        GoPro Hero       2021-03-22  Technical issue   \n",
       "1          Female       LG Smart TV       2021-05-22  Technical issue   \n",
       "2           Other          Dell XPS       2020-07-14  Technical issue   \n",
       "3          Female  Microsoft Office       2020-11-13  Billing inquiry   \n",
       "4          Female  Autodesk AutoCAD       2020-02-04  Billing inquiry   \n",
       "\n",
       "             Ticket Subject  \\\n",
       "0             Product setup   \n",
       "1  Peripheral compatibility   \n",
       "2           Network problem   \n",
       "3            Account access   \n",
       "4                 Data loss   \n",
       "\n",
       "                                  Ticket Description  \\\n",
       "0  I'm having an issue with the {product_purchase...   \n",
       "1  I'm having an issue with the {product_purchase...   \n",
       "2  I'm facing a problem with my {product_purchase...   \n",
       "3  I'm having an issue with the {product_purchase...   \n",
       "4  I'm having an issue with the {product_purchase...   \n",
       "\n",
       "               Ticket Status                                     Resolution  \\\n",
       "0  Pending Customer Response                                            NaN   \n",
       "1  Pending Customer Response                                            NaN   \n",
       "2                     Closed   Case maybe show recently my computer follow.   \n",
       "3                     Closed  Try capital clearly never color toward story.   \n",
       "4                     Closed                    West decision evidence bit.   \n",
       "\n",
       "  Ticket Priority Ticket Channel  First Response Time   Time to Resolution  \\\n",
       "0        Critical   Social media  2023-06-01 12:15:36                  NaN   \n",
       "1        Critical           Chat  2023-06-01 16:45:38                  NaN   \n",
       "2             Low   Social media  2023-06-01 11:14:38  2023-06-01 18:05:38   \n",
       "3             Low   Social media  2023-06-01 07:29:40  2023-06-01 01:57:40   \n",
       "4             Low          Email  2023-06-01 00:12:42  2023-06-01 19:53:42   \n",
       "\n",
       "   Customer Satisfaction Rating  \n",
       "0                           NaN  \n",
       "1                           NaN  \n",
       "2                           3.0  \n",
       "3                           3.0  \n",
       "4                           1.0  "
      ]
     },
     "execution_count": 4,
     "metadata": {},
     "output_type": "execute_result"
    }
   ],
   "source": [
    "df.head()"
   ]
  },
  {
   "cell_type": "code",
   "execution_count": 5,
   "id": "7389d13b-5c77-4fbb-8894-ad3ba41a5c53",
   "metadata": {},
   "outputs": [
    {
     "data": {
      "text/plain": [
       "(8469, 17)"
      ]
     },
     "execution_count": 5,
     "metadata": {},
     "output_type": "execute_result"
    }
   ],
   "source": [
    "df.shape"
   ]
  },
  {
   "cell_type": "code",
   "execution_count": 6,
   "id": "19da335b-12b1-4270-a9f3-43ac84dafa20",
   "metadata": {},
   "outputs": [
    {
     "data": {
      "text/html": [
       "<div>\n",
       "<style scoped>\n",
       "    .dataframe tbody tr th:only-of-type {\n",
       "        vertical-align: middle;\n",
       "    }\n",
       "\n",
       "    .dataframe tbody tr th {\n",
       "        vertical-align: top;\n",
       "    }\n",
       "\n",
       "    .dataframe thead th {\n",
       "        text-align: right;\n",
       "    }\n",
       "</style>\n",
       "<table border=\"1\" class=\"dataframe\">\n",
       "  <thead>\n",
       "    <tr style=\"text-align: right;\">\n",
       "      <th></th>\n",
       "      <th>Ticket ID</th>\n",
       "      <th>Customer Name</th>\n",
       "      <th>Customer Email</th>\n",
       "      <th>Customer Age</th>\n",
       "      <th>Customer Gender</th>\n",
       "      <th>Product Purchased</th>\n",
       "      <th>Date of Purchase</th>\n",
       "      <th>Ticket Type</th>\n",
       "      <th>Ticket Subject</th>\n",
       "      <th>Ticket Description</th>\n",
       "      <th>Ticket Status</th>\n",
       "      <th>Resolution</th>\n",
       "      <th>Ticket Priority</th>\n",
       "      <th>Ticket Channel</th>\n",
       "      <th>First Response Time</th>\n",
       "      <th>Time to Resolution</th>\n",
       "      <th>Customer Satisfaction Rating</th>\n",
       "    </tr>\n",
       "  </thead>\n",
       "  <tbody>\n",
       "    <tr>\n",
       "      <th>321</th>\n",
       "      <td>322</td>\n",
       "      <td>Tyler Stewart</td>\n",
       "      <td>hpatterson@example.net</td>\n",
       "      <td>66</td>\n",
       "      <td>Female</td>\n",
       "      <td>Adobe Photoshop</td>\n",
       "      <td>2020-10-12</td>\n",
       "      <td>Billing inquiry</td>\n",
       "      <td>Product setup</td>\n",
       "      <td>I'm facing a problem with my {product_purchase...</td>\n",
       "      <td>Open</td>\n",
       "      <td>NaN</td>\n",
       "      <td>High</td>\n",
       "      <td>Email</td>\n",
       "      <td>NaN</td>\n",
       "      <td>NaN</td>\n",
       "      <td>NaN</td>\n",
       "    </tr>\n",
       "    <tr>\n",
       "      <th>6645</th>\n",
       "      <td>6646</td>\n",
       "      <td>Kayla Thompson</td>\n",
       "      <td>melissa26@example.net</td>\n",
       "      <td>31</td>\n",
       "      <td>Other</td>\n",
       "      <td>Roomba Robot Vacuum</td>\n",
       "      <td>2020-10-04</td>\n",
       "      <td>Billing inquiry</td>\n",
       "      <td>Account access</td>\n",
       "      <td>I'm having an issue with the {product_purchase...</td>\n",
       "      <td>Closed</td>\n",
       "      <td>Edge safe dark.</td>\n",
       "      <td>Low</td>\n",
       "      <td>Phone</td>\n",
       "      <td>2023-06-01 10:43:09</td>\n",
       "      <td>2023-06-01 22:00:09</td>\n",
       "      <td>2.0</td>\n",
       "    </tr>\n",
       "    <tr>\n",
       "      <th>33</th>\n",
       "      <td>34</td>\n",
       "      <td>Timothy Lyons</td>\n",
       "      <td>darlenelee@example.org</td>\n",
       "      <td>50</td>\n",
       "      <td>Male</td>\n",
       "      <td>Autodesk AutoCAD</td>\n",
       "      <td>2021-12-09</td>\n",
       "      <td>Refund request</td>\n",
       "      <td>Hardware issue</td>\n",
       "      <td>I'm having an issue with the {product_purchase...</td>\n",
       "      <td>Closed</td>\n",
       "      <td>However financial development significant came...</td>\n",
       "      <td>Critical</td>\n",
       "      <td>Social media</td>\n",
       "      <td>2023-06-01 02:01:23</td>\n",
       "      <td>2023-06-01 18:25:23</td>\n",
       "      <td>5.0</td>\n",
       "    </tr>\n",
       "    <tr>\n",
       "      <th>6684</th>\n",
       "      <td>6685</td>\n",
       "      <td>Terrence Garrett</td>\n",
       "      <td>michael99@example.org</td>\n",
       "      <td>46</td>\n",
       "      <td>Other</td>\n",
       "      <td>Canon DSLR Camera</td>\n",
       "      <td>2020-12-04</td>\n",
       "      <td>Technical issue</td>\n",
       "      <td>Installation support</td>\n",
       "      <td>I'm having an issue with the {product_purchase...</td>\n",
       "      <td>Open</td>\n",
       "      <td>NaN</td>\n",
       "      <td>Critical</td>\n",
       "      <td>Chat</td>\n",
       "      <td>NaN</td>\n",
       "      <td>NaN</td>\n",
       "      <td>NaN</td>\n",
       "    </tr>\n",
       "  </tbody>\n",
       "</table>\n",
       "</div>"
      ],
      "text/plain": [
       "      Ticket ID     Customer Name          Customer Email  Customer Age  \\\n",
       "321         322     Tyler Stewart  hpatterson@example.net            66   \n",
       "6645       6646    Kayla Thompson   melissa26@example.net            31   \n",
       "33           34     Timothy Lyons  darlenelee@example.org            50   \n",
       "6684       6685  Terrence Garrett   michael99@example.org            46   \n",
       "\n",
       "     Customer Gender    Product Purchased Date of Purchase      Ticket Type  \\\n",
       "321           Female      Adobe Photoshop       2020-10-12  Billing inquiry   \n",
       "6645           Other  Roomba Robot Vacuum       2020-10-04  Billing inquiry   \n",
       "33              Male     Autodesk AutoCAD       2021-12-09   Refund request   \n",
       "6684           Other    Canon DSLR Camera       2020-12-04  Technical issue   \n",
       "\n",
       "            Ticket Subject                                 Ticket Description  \\\n",
       "321          Product setup  I'm facing a problem with my {product_purchase...   \n",
       "6645        Account access  I'm having an issue with the {product_purchase...   \n",
       "33          Hardware issue  I'm having an issue with the {product_purchase...   \n",
       "6684  Installation support  I'm having an issue with the {product_purchase...   \n",
       "\n",
       "     Ticket Status                                         Resolution  \\\n",
       "321           Open                                                NaN   \n",
       "6645        Closed                                    Edge safe dark.   \n",
       "33          Closed  However financial development significant came...   \n",
       "6684          Open                                                NaN   \n",
       "\n",
       "     Ticket Priority Ticket Channel  First Response Time   Time to Resolution  \\\n",
       "321             High          Email                  NaN                  NaN   \n",
       "6645             Low          Phone  2023-06-01 10:43:09  2023-06-01 22:00:09   \n",
       "33          Critical   Social media  2023-06-01 02:01:23  2023-06-01 18:25:23   \n",
       "6684        Critical           Chat                  NaN                  NaN   \n",
       "\n",
       "      Customer Satisfaction Rating  \n",
       "321                            NaN  \n",
       "6645                           2.0  \n",
       "33                             5.0  \n",
       "6684                           NaN  "
      ]
     },
     "execution_count": 6,
     "metadata": {},
     "output_type": "execute_result"
    }
   ],
   "source": [
    "df.sample(4)"
   ]
  },
  {
   "cell_type": "code",
   "execution_count": 7,
   "id": "62a200b2-781a-42c6-85e5-2a09df4b1c5b",
   "metadata": {},
   "outputs": [
    {
     "data": {
      "text/plain": [
       "Index(['Ticket ID', 'Customer Name', 'Customer Email', 'Customer Age',\n",
       "       'Customer Gender', 'Product Purchased', 'Date of Purchase',\n",
       "       'Ticket Type', 'Ticket Subject', 'Ticket Description', 'Ticket Status',\n",
       "       'Resolution', 'Ticket Priority', 'Ticket Channel',\n",
       "       'First Response Time', 'Time to Resolution',\n",
       "       'Customer Satisfaction Rating'],\n",
       "      dtype='object')"
      ]
     },
     "execution_count": 7,
     "metadata": {},
     "output_type": "execute_result"
    }
   ],
   "source": [
    "df.columns"
   ]
  },
  {
   "cell_type": "markdown",
   "id": "9f34497a-e2c1-4eca-bac2-90b675a0e37a",
   "metadata": {},
   "source": [
    "### Data Info"
   ]
  },
  {
   "cell_type": "code",
   "execution_count": 8,
   "id": "42d61d49-4183-4304-b1ab-54853b05b752",
   "metadata": {},
   "outputs": [
    {
     "data": {
      "text/plain": [
       "<bound method Series.info of 0       NaN\n",
       "1       NaN\n",
       "2       3.0\n",
       "3       3.0\n",
       "4       1.0\n",
       "       ... \n",
       "8464    NaN\n",
       "8465    NaN\n",
       "8466    3.0\n",
       "8467    3.0\n",
       "8468    NaN\n",
       "Name: Customer Satisfaction Rating, Length: 8469, dtype: float64>"
      ]
     },
     "execution_count": 8,
     "metadata": {},
     "output_type": "execute_result"
    }
   ],
   "source": [
    "df['Customer Satisfaction Rating'].info"
   ]
  },
  {
   "cell_type": "code",
   "execution_count": 9,
   "id": "bdca3e50-acf1-4751-b379-02f329f68303",
   "metadata": {},
   "outputs": [
    {
     "data": {
      "text/plain": [
       "<bound method NDFrame.describe of 0       2021-03-22\n",
       "1       2021-05-22\n",
       "2       2020-07-14\n",
       "3       2020-11-13\n",
       "4       2020-02-04\n",
       "           ...    \n",
       "8464    2021-12-08\n",
       "8465    2020-02-22\n",
       "8466    2021-08-17\n",
       "8467    2021-10-16\n",
       "8468    2020-06-01\n",
       "Name: Date of Purchase, Length: 8469, dtype: object>"
      ]
     },
     "execution_count": 9,
     "metadata": {},
     "output_type": "execute_result"
    }
   ],
   "source": [
    "df['Date of Purchase'].describe "
   ]
  },
  {
   "cell_type": "code",
   "execution_count": 10,
   "id": "e5b55f66-3abf-4c54-b5a2-5b311c3182f4",
   "metadata": {},
   "outputs": [
    {
     "data": {
      "text/plain": [
       "Ticket ID                          0\n",
       "Customer Name                      0\n",
       "Customer Email                     0\n",
       "Customer Age                       0\n",
       "Customer Gender                    0\n",
       "Product Purchased                  0\n",
       "Date of Purchase                   0\n",
       "Ticket Type                        0\n",
       "Ticket Subject                     0\n",
       "Ticket Description                 0\n",
       "Ticket Status                      0\n",
       "Resolution                      5700\n",
       "Ticket Priority                    0\n",
       "Ticket Channel                     0\n",
       "First Response Time             2819\n",
       "Time to Resolution              5700\n",
       "Customer Satisfaction Rating    5700\n",
       "dtype: int64"
      ]
     },
     "execution_count": 10,
     "metadata": {},
     "output_type": "execute_result"
    }
   ],
   "source": [
    "df.isnull().sum()"
   ]
  },
  {
   "cell_type": "code",
   "execution_count": 11,
   "id": "58f74740-f5e6-46a9-a6d3-4c7a414acba8",
   "metadata": {},
   "outputs": [
    {
     "data": {
      "text/plain": [
       "Ticket ID                        0.000000\n",
       "Customer Name                    0.000000\n",
       "Customer Email                   0.000000\n",
       "Customer Age                     0.000000\n",
       "Customer Gender                  0.000000\n",
       "Product Purchased                0.000000\n",
       "Date of Purchase                 0.000000\n",
       "Ticket Type                      0.000000\n",
       "Ticket Subject                   0.000000\n",
       "Ticket Description               0.000000\n",
       "Ticket Status                    0.000000\n",
       "Resolution                      67.304286\n",
       "Ticket Priority                  0.000000\n",
       "Ticket Channel                   0.000000\n",
       "First Response Time             33.286102\n",
       "Time to Resolution              67.304286\n",
       "Customer Satisfaction Rating    67.304286\n",
       "dtype: float64"
      ]
     },
     "execution_count": 11,
     "metadata": {},
     "output_type": "execute_result"
    }
   ],
   "source": [
    "df.isnull().mean()*100           "
   ]
  },
  {
   "cell_type": "markdown",
   "id": "bbbe0d6e-2c62-4ae3-8fa6-e2fffe8d3c86",
   "metadata": {},
   "source": [
    "### Data Cleaning "
   ]
  },
  {
   "cell_type": "code",
   "execution_count": 12,
   "id": "dfb8283b-74c8-4bb6-a78a-91c6a93eab43",
   "metadata": {},
   "outputs": [],
   "source": [
    "df.dropna(inplace=True)"
   ]
  },
  {
   "cell_type": "code",
   "execution_count": 13,
   "id": "39010cd0-35e7-455e-80c7-70096d29c977",
   "metadata": {},
   "outputs": [
    {
     "data": {
      "text/plain": [
       "Ticket ID                       0\n",
       "Customer Name                   0\n",
       "Customer Email                  0\n",
       "Customer Age                    0\n",
       "Customer Gender                 0\n",
       "Product Purchased               0\n",
       "Date of Purchase                0\n",
       "Ticket Type                     0\n",
       "Ticket Subject                  0\n",
       "Ticket Description              0\n",
       "Ticket Status                   0\n",
       "Resolution                      0\n",
       "Ticket Priority                 0\n",
       "Ticket Channel                  0\n",
       "First Response Time             0\n",
       "Time to Resolution              0\n",
       "Customer Satisfaction Rating    0\n",
       "dtype: int64"
      ]
     },
     "execution_count": 13,
     "metadata": {},
     "output_type": "execute_result"
    }
   ],
   "source": [
    "df.isnull().sum()"
   ]
  },
  {
   "cell_type": "code",
   "execution_count": 14,
   "id": "72a9fcac-dbf0-43de-ab20-876cc28796db",
   "metadata": {},
   "outputs": [
    {
     "data": {
      "text/plain": [
       "<bound method NDFrame.astype of 2       2023-06-01 11:14:38\n",
       "3       2023-06-01 07:29:40\n",
       "4       2023-06-01 00:12:42\n",
       "10      2023-06-01 17:46:49\n",
       "11      2023-06-01 12:05:51\n",
       "               ...         \n",
       "8452    2023-06-01 14:14:05\n",
       "8453    2023-06-01 12:56:06\n",
       "8455    2023-06-01 14:15:07\n",
       "8466    2023-06-01 09:44:22\n",
       "8467    2023-06-01 18:28:24\n",
       "Name: First Response Time, Length: 2769, dtype: object>"
      ]
     },
     "execution_count": 14,
     "metadata": {},
     "output_type": "execute_result"
    }
   ],
   "source": [
    "df['First Response Time'].astype"
   ]
  },
  {
   "cell_type": "code",
   "execution_count": 15,
   "id": "bf0c622a-bfdd-4bc1-ac96-ea24dca99f12",
   "metadata": {},
   "outputs": [
    {
     "data": {
      "text/plain": [
       "<bound method NDFrame.astype of 2      2023-06-01 11:14:38\n",
       "3      2023-06-01 07:29:40\n",
       "4      2023-06-01 00:12:42\n",
       "10     2023-06-01 17:46:49\n",
       "11     2023-06-01 12:05:51\n",
       "               ...        \n",
       "8452   2023-06-01 14:14:05\n",
       "8453   2023-06-01 12:56:06\n",
       "8455   2023-06-01 14:15:07\n",
       "8466   2023-06-01 09:44:22\n",
       "8467   2023-06-01 18:28:24\n",
       "Name: First Response Time, Length: 2769, dtype: datetime64[ns]>"
      ]
     },
     "execution_count": 15,
     "metadata": {},
     "output_type": "execute_result"
    }
   ],
   "source": [
    "df['First Response Time']=pd.to_datetime(df['First Response Time'])\n",
    "df['First Response Time'].astype"
   ]
  },
  {
   "cell_type": "code",
   "execution_count": 16,
   "id": "68905362-c67c-48a7-9fe7-fa8c028c0839",
   "metadata": {},
   "outputs": [
    {
     "data": {
      "text/plain": [
       "<bound method NDFrame.astype of 2       2023-06-01 18:05:38\n",
       "3       2023-06-01 01:57:40\n",
       "4       2023-06-01 19:53:42\n",
       "10      2023-05-31 23:51:49\n",
       "11      2023-06-01 09:27:51\n",
       "               ...         \n",
       "8452    2023-06-01 05:47:05\n",
       "8453    2023-06-01 04:45:06\n",
       "8455    2023-06-01 06:58:07\n",
       "8466    2023-06-01 04:31:22\n",
       "8467    2023-06-01 05:32:24\n",
       "Name: Time to Resolution, Length: 2769, dtype: object>"
      ]
     },
     "execution_count": 16,
     "metadata": {},
     "output_type": "execute_result"
    }
   ],
   "source": [
    "df['Time to Resolution'].astype"
   ]
  },
  {
   "cell_type": "code",
   "execution_count": 17,
   "id": "48b3400f-0c59-4a86-97a7-a076f8af8b77",
   "metadata": {},
   "outputs": [
    {
     "data": {
      "text/plain": [
       "<bound method NDFrame.astype of 2      2023-06-01 18:05:38\n",
       "3      2023-06-01 01:57:40\n",
       "4      2023-06-01 19:53:42\n",
       "10     2023-05-31 23:51:49\n",
       "11     2023-06-01 09:27:51\n",
       "               ...        \n",
       "8452   2023-06-01 05:47:05\n",
       "8453   2023-06-01 04:45:06\n",
       "8455   2023-06-01 06:58:07\n",
       "8466   2023-06-01 04:31:22\n",
       "8467   2023-06-01 05:32:24\n",
       "Name: Time to Resolution, Length: 2769, dtype: datetime64[ns]>"
      ]
     },
     "execution_count": 17,
     "metadata": {},
     "output_type": "execute_result"
    }
   ],
   "source": [
    "df['Time to Resolution']=pd.to_datetime(df['Time to Resolution'])\n",
    "df['Time to Resolution'].astype"
   ]
  },
  {
   "cell_type": "code",
   "execution_count": 18,
   "id": "8c804496-c968-47ce-8bdf-615ca8f2c3f9",
   "metadata": {},
   "outputs": [
    {
     "data": {
      "text/plain": [
       "<bound method NDFrame.astype of 2      2020-07-14\n",
       "3      2020-11-13\n",
       "4      2020-02-04\n",
       "10     2021-01-19\n",
       "11     2021-10-24\n",
       "          ...    \n",
       "8452   2020-03-29\n",
       "8453   2020-06-20\n",
       "8455   2021-02-02\n",
       "8466   2021-08-17\n",
       "8467   2021-10-16\n",
       "Name: Date of Purchase, Length: 2769, dtype: datetime64[ns]>"
      ]
     },
     "execution_count": 18,
     "metadata": {},
     "output_type": "execute_result"
    }
   ],
   "source": [
    "df['Date of Purchase']=pd.to_datetime(df['Date of Purchase'])\n",
    "df['Date of Purchase'].astype"
   ]
  },
  {
   "cell_type": "code",
   "execution_count": 19,
   "id": "37252b83-12e5-4222-968b-6eab35805ee1",
   "metadata": {},
   "outputs": [
    {
     "data": {
      "text/plain": [
       "<bound method NDFrame.astype of 2       3.0\n",
       "3       3.0\n",
       "4       1.0\n",
       "10      1.0\n",
       "11      1.0\n",
       "       ... \n",
       "8452    3.0\n",
       "8453    5.0\n",
       "8455    1.0\n",
       "8466    3.0\n",
       "8467    3.0\n",
       "Name: Customer Satisfaction Rating, Length: 2769, dtype: float64>"
      ]
     },
     "execution_count": 19,
     "metadata": {},
     "output_type": "execute_result"
    }
   ],
   "source": [
    "df['Customer Satisfaction Rating'].astype"
   ]
  },
  {
   "cell_type": "code",
   "execution_count": 20,
   "id": "d21533cc-e56a-4273-a81e-c5bc3a05d644",
   "metadata": {},
   "outputs": [
    {
     "data": {
      "text/plain": [
       "<bound method NDFrame.astype of 2        Other\n",
       "3       Female\n",
       "4       Female\n",
       "10        Male\n",
       "11        Male\n",
       "         ...  \n",
       "8452    Female\n",
       "8453     Other\n",
       "8455     Other\n",
       "8466    Female\n",
       "8467      Male\n",
       "Name: Customer Gender, Length: 2769, dtype: object>"
      ]
     },
     "execution_count": 20,
     "metadata": {},
     "output_type": "execute_result"
    }
   ],
   "source": [
    "df['Customer Gender'].astype"
   ]
  },
  {
   "cell_type": "code",
   "execution_count": 21,
   "id": "5bb0d57d-beb4-434a-9203-73fa6c36bbe6",
   "metadata": {},
   "outputs": [
    {
     "name": "stdout",
     "output_type": "stream",
     "text": [
      "3       Female\n",
      "4       Female\n",
      "10        Male\n",
      "11        Male\n",
      "14      Female\n",
      "         ...  \n",
      "8435    Female\n",
      "8440    Female\n",
      "8452    Female\n",
      "8466    Female\n",
      "8467      Male\n",
      "Name: Customer Gender, Length: 1900, dtype: object\n"
     ]
    }
   ],
   "source": [
    "for i in df.index:\n",
    "    if df.loc[i,'Customer Gender']=='Other':\n",
    "        df.drop(i,inplace=True)\n",
    "print(df['Customer Gender'])"
   ]
  },
  {
   "cell_type": "code",
   "execution_count": 22,
   "id": "c6686980-93e3-44bd-a4b1-62b381af384d",
   "metadata": {},
   "outputs": [
    {
     "data": {
      "text/plain": [
       "3       Female\n",
       "4       Female\n",
       "10        Male\n",
       "11        Male\n",
       "14      Female\n",
       "         ...  \n",
       "8435    Female\n",
       "8440    Female\n",
       "8452    Female\n",
       "8466    Female\n",
       "8467      Male\n",
       "Name: Customer Gender, Length: 1900, dtype: object"
      ]
     },
     "execution_count": 22,
     "metadata": {},
     "output_type": "execute_result"
    }
   ],
   "source": [
    "df['Customer Gender']"
   ]
  },
  {
   "cell_type": "code",
   "execution_count": 23,
   "id": "31651822-87d8-440b-b2b7-080a061249fa",
   "metadata": {},
   "outputs": [
    {
     "data": {
      "text/html": [
       "<div>\n",
       "<style scoped>\n",
       "    .dataframe tbody tr th:only-of-type {\n",
       "        vertical-align: middle;\n",
       "    }\n",
       "\n",
       "    .dataframe tbody tr th {\n",
       "        vertical-align: top;\n",
       "    }\n",
       "\n",
       "    .dataframe thead th {\n",
       "        text-align: right;\n",
       "    }\n",
       "</style>\n",
       "<table border=\"1\" class=\"dataframe\">\n",
       "  <thead>\n",
       "    <tr style=\"text-align: right;\">\n",
       "      <th></th>\n",
       "      <th>Ticket ID</th>\n",
       "      <th>Customer Name</th>\n",
       "      <th>Customer Email</th>\n",
       "      <th>Customer Age</th>\n",
       "      <th>Customer Gender</th>\n",
       "      <th>Product Purchased</th>\n",
       "      <th>Date of Purchase</th>\n",
       "      <th>Ticket Type</th>\n",
       "      <th>Ticket Subject</th>\n",
       "      <th>Ticket Description</th>\n",
       "      <th>Ticket Status</th>\n",
       "      <th>Resolution</th>\n",
       "      <th>Ticket Priority</th>\n",
       "      <th>Ticket Channel</th>\n",
       "      <th>First Response Time</th>\n",
       "      <th>Time to Resolution</th>\n",
       "      <th>Customer Satisfaction Rating</th>\n",
       "    </tr>\n",
       "  </thead>\n",
       "  <tbody>\n",
       "    <tr>\n",
       "      <th>3</th>\n",
       "      <td>4</td>\n",
       "      <td>Christina Dillon</td>\n",
       "      <td>bradleyolson@example.org</td>\n",
       "      <td>27</td>\n",
       "      <td>Female</td>\n",
       "      <td>Microsoft Office</td>\n",
       "      <td>2020-11-13</td>\n",
       "      <td>Billing inquiry</td>\n",
       "      <td>Account access</td>\n",
       "      <td>I'm having an issue with the {product_purchase...</td>\n",
       "      <td>Closed</td>\n",
       "      <td>Try capital clearly never color toward story.</td>\n",
       "      <td>Low</td>\n",
       "      <td>Social media</td>\n",
       "      <td>2023-06-01 07:29:40</td>\n",
       "      <td>2023-06-01 01:57:40</td>\n",
       "      <td>3.0</td>\n",
       "    </tr>\n",
       "    <tr>\n",
       "      <th>4</th>\n",
       "      <td>5</td>\n",
       "      <td>Alexander Carroll</td>\n",
       "      <td>bradleymark@example.com</td>\n",
       "      <td>67</td>\n",
       "      <td>Female</td>\n",
       "      <td>Autodesk AutoCAD</td>\n",
       "      <td>2020-02-04</td>\n",
       "      <td>Billing inquiry</td>\n",
       "      <td>Data loss</td>\n",
       "      <td>I'm having an issue with the {product_purchase...</td>\n",
       "      <td>Closed</td>\n",
       "      <td>West decision evidence bit.</td>\n",
       "      <td>Low</td>\n",
       "      <td>Email</td>\n",
       "      <td>2023-06-01 00:12:42</td>\n",
       "      <td>2023-06-01 19:53:42</td>\n",
       "      <td>1.0</td>\n",
       "    </tr>\n",
       "    <tr>\n",
       "      <th>10</th>\n",
       "      <td>11</td>\n",
       "      <td>Joseph Moreno</td>\n",
       "      <td>mbrown@example.org</td>\n",
       "      <td>48</td>\n",
       "      <td>Male</td>\n",
       "      <td>Nintendo Switch</td>\n",
       "      <td>2021-01-19</td>\n",
       "      <td>Cancellation request</td>\n",
       "      <td>Data loss</td>\n",
       "      <td>I'm having an issue with the {product_purchase...</td>\n",
       "      <td>Closed</td>\n",
       "      <td>Measure tonight surface feel forward.</td>\n",
       "      <td>High</td>\n",
       "      <td>Phone</td>\n",
       "      <td>2023-06-01 17:46:49</td>\n",
       "      <td>2023-05-31 23:51:49</td>\n",
       "      <td>1.0</td>\n",
       "    </tr>\n",
       "    <tr>\n",
       "      <th>11</th>\n",
       "      <td>12</td>\n",
       "      <td>Brandon Arnold</td>\n",
       "      <td>davisjohn@example.net</td>\n",
       "      <td>51</td>\n",
       "      <td>Male</td>\n",
       "      <td>Microsoft Xbox Controller</td>\n",
       "      <td>2021-10-24</td>\n",
       "      <td>Product inquiry</td>\n",
       "      <td>Software bug</td>\n",
       "      <td>I'm having an issue with the {product_purchase...</td>\n",
       "      <td>Closed</td>\n",
       "      <td>Measure there house management pick knowledge ...</td>\n",
       "      <td>High</td>\n",
       "      <td>Chat</td>\n",
       "      <td>2023-06-01 12:05:51</td>\n",
       "      <td>2023-06-01 09:27:51</td>\n",
       "      <td>1.0</td>\n",
       "    </tr>\n",
       "    <tr>\n",
       "      <th>14</th>\n",
       "      <td>15</td>\n",
       "      <td>Amy Hill</td>\n",
       "      <td>medinasteven@example.net</td>\n",
       "      <td>48</td>\n",
       "      <td>Female</td>\n",
       "      <td>Sony PlayStation</td>\n",
       "      <td>2020-02-29</td>\n",
       "      <td>Billing inquiry</td>\n",
       "      <td>Product setup</td>\n",
       "      <td>I'm having an issue with the {product_purchase...</td>\n",
       "      <td>Closed</td>\n",
       "      <td>Officer moment world sing parent available.</td>\n",
       "      <td>High</td>\n",
       "      <td>Chat</td>\n",
       "      <td>2023-06-01 06:22:55</td>\n",
       "      <td>2023-05-31 23:08:55</td>\n",
       "      <td>4.0</td>\n",
       "    </tr>\n",
       "    <tr>\n",
       "      <th>19</th>\n",
       "      <td>20</td>\n",
       "      <td>Jeffrey Robertson</td>\n",
       "      <td>jameslopez@example.com</td>\n",
       "      <td>39</td>\n",
       "      <td>Female</td>\n",
       "      <td>Canon EOS</td>\n",
       "      <td>2021-03-08</td>\n",
       "      <td>Refund request</td>\n",
       "      <td>Software bug</td>\n",
       "      <td>I'm having an issue with the {product_purchase...</td>\n",
       "      <td>Closed</td>\n",
       "      <td>Wish mouth build resource though.</td>\n",
       "      <td>Low</td>\n",
       "      <td>Chat</td>\n",
       "      <td>2023-06-01 00:46:04</td>\n",
       "      <td>2023-06-01 20:29:04</td>\n",
       "      <td>5.0</td>\n",
       "    </tr>\n",
       "    <tr>\n",
       "      <th>29</th>\n",
       "      <td>30</td>\n",
       "      <td>Austin George</td>\n",
       "      <td>shericase@example.net</td>\n",
       "      <td>67</td>\n",
       "      <td>Male</td>\n",
       "      <td>Xbox</td>\n",
       "      <td>2020-12-26</td>\n",
       "      <td>Cancellation request</td>\n",
       "      <td>Cancellation request</td>\n",
       "      <td>I'm having an issue with the {product_purchase...</td>\n",
       "      <td>Closed</td>\n",
       "      <td>Firm sort voice above which site arrive.</td>\n",
       "      <td>Medium</td>\n",
       "      <td>Phone</td>\n",
       "      <td>2023-06-01 00:54:17</td>\n",
       "      <td>2023-06-01 18:23:17</td>\n",
       "      <td>1.0</td>\n",
       "    </tr>\n",
       "    <tr>\n",
       "      <th>31</th>\n",
       "      <td>32</td>\n",
       "      <td>Robert Wilson</td>\n",
       "      <td>zstewart@example.org</td>\n",
       "      <td>60</td>\n",
       "      <td>Male</td>\n",
       "      <td>GoPro Action Camera</td>\n",
       "      <td>2021-12-20</td>\n",
       "      <td>Technical issue</td>\n",
       "      <td>Product compatibility</td>\n",
       "      <td>I'm having an issue with the {product_purchase...</td>\n",
       "      <td>Closed</td>\n",
       "      <td>Certain myself month past tree benefit.</td>\n",
       "      <td>Medium</td>\n",
       "      <td>Social media</td>\n",
       "      <td>2023-06-01 06:42:21</td>\n",
       "      <td>2023-06-01 07:16:21</td>\n",
       "      <td>3.0</td>\n",
       "    </tr>\n",
       "    <tr>\n",
       "      <th>33</th>\n",
       "      <td>34</td>\n",
       "      <td>Timothy Lyons</td>\n",
       "      <td>darlenelee@example.org</td>\n",
       "      <td>50</td>\n",
       "      <td>Male</td>\n",
       "      <td>Autodesk AutoCAD</td>\n",
       "      <td>2021-12-09</td>\n",
       "      <td>Refund request</td>\n",
       "      <td>Hardware issue</td>\n",
       "      <td>I'm having an issue with the {product_purchase...</td>\n",
       "      <td>Closed</td>\n",
       "      <td>However financial development significant came...</td>\n",
       "      <td>Critical</td>\n",
       "      <td>Social media</td>\n",
       "      <td>2023-06-01 02:01:23</td>\n",
       "      <td>2023-06-01 18:25:23</td>\n",
       "      <td>5.0</td>\n",
       "    </tr>\n",
       "    <tr>\n",
       "      <th>38</th>\n",
       "      <td>39</td>\n",
       "      <td>Kevin Ingram</td>\n",
       "      <td>victor62@example.net</td>\n",
       "      <td>19</td>\n",
       "      <td>Male</td>\n",
       "      <td>Google Pixel</td>\n",
       "      <td>2021-09-10</td>\n",
       "      <td>Technical issue</td>\n",
       "      <td>Account access</td>\n",
       "      <td>I'm having an issue with the {product_purchase...</td>\n",
       "      <td>Closed</td>\n",
       "      <td>North second between this cell opportunity mov...</td>\n",
       "      <td>Critical</td>\n",
       "      <td>Phone</td>\n",
       "      <td>2023-06-01 18:45:30</td>\n",
       "      <td>2023-05-31 21:53:30</td>\n",
       "      <td>3.0</td>\n",
       "    </tr>\n",
       "  </tbody>\n",
       "</table>\n",
       "</div>"
      ],
      "text/plain": [
       "    Ticket ID      Customer Name            Customer Email  Customer Age  \\\n",
       "3           4   Christina Dillon  bradleyolson@example.org            27   \n",
       "4           5  Alexander Carroll   bradleymark@example.com            67   \n",
       "10         11      Joseph Moreno        mbrown@example.org            48   \n",
       "11         12     Brandon Arnold     davisjohn@example.net            51   \n",
       "14         15           Amy Hill  medinasteven@example.net            48   \n",
       "19         20  Jeffrey Robertson    jameslopez@example.com            39   \n",
       "29         30      Austin George     shericase@example.net            67   \n",
       "31         32      Robert Wilson      zstewart@example.org            60   \n",
       "33         34      Timothy Lyons    darlenelee@example.org            50   \n",
       "38         39       Kevin Ingram      victor62@example.net            19   \n",
       "\n",
       "   Customer Gender          Product Purchased Date of Purchase  \\\n",
       "3           Female           Microsoft Office       2020-11-13   \n",
       "4           Female           Autodesk AutoCAD       2020-02-04   \n",
       "10            Male            Nintendo Switch       2021-01-19   \n",
       "11            Male  Microsoft Xbox Controller       2021-10-24   \n",
       "14          Female           Sony PlayStation       2020-02-29   \n",
       "19          Female                  Canon EOS       2021-03-08   \n",
       "29            Male                       Xbox       2020-12-26   \n",
       "31            Male        GoPro Action Camera       2021-12-20   \n",
       "33            Male           Autodesk AutoCAD       2021-12-09   \n",
       "38            Male               Google Pixel       2021-09-10   \n",
       "\n",
       "             Ticket Type         Ticket Subject  \\\n",
       "3        Billing inquiry         Account access   \n",
       "4        Billing inquiry              Data loss   \n",
       "10  Cancellation request              Data loss   \n",
       "11       Product inquiry           Software bug   \n",
       "14       Billing inquiry          Product setup   \n",
       "19        Refund request           Software bug   \n",
       "29  Cancellation request   Cancellation request   \n",
       "31       Technical issue  Product compatibility   \n",
       "33        Refund request         Hardware issue   \n",
       "38       Technical issue         Account access   \n",
       "\n",
       "                                   Ticket Description Ticket Status  \\\n",
       "3   I'm having an issue with the {product_purchase...        Closed   \n",
       "4   I'm having an issue with the {product_purchase...        Closed   \n",
       "10  I'm having an issue with the {product_purchase...        Closed   \n",
       "11  I'm having an issue with the {product_purchase...        Closed   \n",
       "14  I'm having an issue with the {product_purchase...        Closed   \n",
       "19  I'm having an issue with the {product_purchase...        Closed   \n",
       "29  I'm having an issue with the {product_purchase...        Closed   \n",
       "31  I'm having an issue with the {product_purchase...        Closed   \n",
       "33  I'm having an issue with the {product_purchase...        Closed   \n",
       "38  I'm having an issue with the {product_purchase...        Closed   \n",
       "\n",
       "                                           Resolution Ticket Priority  \\\n",
       "3       Try capital clearly never color toward story.             Low   \n",
       "4                         West decision evidence bit.             Low   \n",
       "10              Measure tonight surface feel forward.            High   \n",
       "11  Measure there house management pick knowledge ...            High   \n",
       "14        Officer moment world sing parent available.            High   \n",
       "19                  Wish mouth build resource though.             Low   \n",
       "29           Firm sort voice above which site arrive.          Medium   \n",
       "31            Certain myself month past tree benefit.          Medium   \n",
       "33  However financial development significant came...        Critical   \n",
       "38  North second between this cell opportunity mov...        Critical   \n",
       "\n",
       "   Ticket Channel First Response Time  Time to Resolution  \\\n",
       "3    Social media 2023-06-01 07:29:40 2023-06-01 01:57:40   \n",
       "4           Email 2023-06-01 00:12:42 2023-06-01 19:53:42   \n",
       "10          Phone 2023-06-01 17:46:49 2023-05-31 23:51:49   \n",
       "11           Chat 2023-06-01 12:05:51 2023-06-01 09:27:51   \n",
       "14           Chat 2023-06-01 06:22:55 2023-05-31 23:08:55   \n",
       "19           Chat 2023-06-01 00:46:04 2023-06-01 20:29:04   \n",
       "29          Phone 2023-06-01 00:54:17 2023-06-01 18:23:17   \n",
       "31   Social media 2023-06-01 06:42:21 2023-06-01 07:16:21   \n",
       "33   Social media 2023-06-01 02:01:23 2023-06-01 18:25:23   \n",
       "38          Phone 2023-06-01 18:45:30 2023-05-31 21:53:30   \n",
       "\n",
       "    Customer Satisfaction Rating  \n",
       "3                            3.0  \n",
       "4                            1.0  \n",
       "10                           1.0  \n",
       "11                           1.0  \n",
       "14                           4.0  \n",
       "19                           5.0  \n",
       "29                           1.0  \n",
       "31                           3.0  \n",
       "33                           5.0  \n",
       "38                           3.0  "
      ]
     },
     "execution_count": 23,
     "metadata": {},
     "output_type": "execute_result"
    }
   ],
   "source": [
    "df.head(10)"
   ]
  },
  {
   "cell_type": "code",
   "execution_count": 24,
   "id": "eb8dbef7-d8a1-477e-9b4e-620d5dca2c10",
   "metadata": {},
   "outputs": [
    {
     "data": {
      "text/plain": [
       "(1900, 17)"
      ]
     },
     "execution_count": 24,
     "metadata": {},
     "output_type": "execute_result"
    }
   ],
   "source": [
    "df.shape"
   ]
  },
  {
   "cell_type": "markdown",
   "id": "ac37d92e-e1db-4f37-9077-5df179ef08fb",
   "metadata": {},
   "source": [
    "### Column Analysis"
   ]
  },
  {
   "cell_type": "code",
   "execution_count": 25,
   "id": "71ea60ad-3093-4a35-9d51-dd357232cf66",
   "metadata": {},
   "outputs": [
    {
     "name": "stdout",
     "output_type": "stream",
     "text": [
      "3       bradleyolson@example.org\n",
      "4        bradleymark@example.com\n",
      "10            mbrown@example.org\n",
      "11         davisjohn@example.net\n",
      "14      medinasteven@example.net\n",
      "                  ...           \n",
      "8435    tayloralison@example.com\n",
      "8440    martinaudrey@example.com\n",
      "8452       jessica60@example.org\n",
      "8466        ashley83@example.org\n",
      "8467         fpowell@example.org\n",
      "Name: Customer Email, Length: 1900, dtype: object\n"
     ]
    }
   ],
   "source": [
    "if  not df['Customer Email'].nunique():\n",
    "    df['Customer Email'].drop(inplace=True)\n",
    "print(df['Customer Email'])"
   ]
  },
  {
   "cell_type": "code",
   "execution_count": 26,
   "id": "83385b36-8959-450e-bb0f-0ba3dfeaa84a",
   "metadata": {},
   "outputs": [
    {
     "data": {
      "text/plain": [
       "Customer Email\n",
       "asmith@example.com            3\n",
       "tbrown@example.net            2\n",
       "jdavis@example.org            2\n",
       "ggarcia@example.org           2\n",
       "johnsonlisa@example.com       2\n",
       "                             ..\n",
       "christinahicks@example.com    1\n",
       "cwerner@example.com           1\n",
       "seanclark@example.org         1\n",
       "wdunn@example.com             1\n",
       "fpowell@example.org           1\n",
       "Name: count, Length: 1891, dtype: int64"
      ]
     },
     "execution_count": 26,
     "metadata": {},
     "output_type": "execute_result"
    }
   ],
   "source": [
    "df['Customer Email'].value_counts()"
   ]
  },
  {
   "cell_type": "code",
   "execution_count": 27,
   "id": "d4df59dd-ca88-42ca-9023-cf183d9c85dc",
   "metadata": {},
   "outputs": [
    {
     "data": {
      "text/plain": [
       "3       bradleyolson@example.org\n",
       "4        bradleymark@example.com\n",
       "10            mbrown@example.org\n",
       "11         davisjohn@example.net\n",
       "14      medinasteven@example.net\n",
       "                  ...           \n",
       "8435    tayloralison@example.com\n",
       "8440    martinaudrey@example.com\n",
       "8452       jessica60@example.org\n",
       "8466        ashley83@example.org\n",
       "8467         fpowell@example.org\n",
       "Name: Customer Email, Length: 1900, dtype: object"
      ]
     },
     "execution_count": 27,
     "metadata": {},
     "output_type": "execute_result"
    }
   ],
   "source": [
    "df['Customer Email'] = df['Customer Email'].drop_duplicates()\n",
    "df['Customer Email']"
   ]
  },
  {
   "cell_type": "code",
   "execution_count": 28,
   "id": "256e63fe-d4b0-44ba-91b2-10588a6e8d9f",
   "metadata": {},
   "outputs": [
    {
     "data": {
      "text/plain": [
       "Customer Email\n",
       "bradleyolson@example.org     1\n",
       "qweiss@example.com           1\n",
       "ryanfox@example.com          1\n",
       "timothy60@example.net        1\n",
       "tperez@example.com           1\n",
       "                            ..\n",
       "seanclark@example.org        1\n",
       "wdunn@example.com            1\n",
       "yjackson@example.com         1\n",
       "pearsonjanice@example.com    1\n",
       "fpowell@example.org          1\n",
       "Name: count, Length: 1891, dtype: int64"
      ]
     },
     "execution_count": 28,
     "metadata": {},
     "output_type": "execute_result"
    }
   ],
   "source": [
    "df['Customer Email'].value_counts()"
   ]
  },
  {
   "cell_type": "markdown",
   "id": "523f6bfa-9452-49e1-ad8a-2a679d4dd645",
   "metadata": {},
   "source": [
    "## check dataset"
   ]
  },
  {
   "cell_type": "code",
   "execution_count": 29,
   "id": "b5c6ff7a-1067-403a-8cac-e05bcfbeac2c",
   "metadata": {},
   "outputs": [
    {
     "data": {
      "text/plain": [
       "Ticket ID                       0\n",
       "Customer Name                   0\n",
       "Customer Email                  9\n",
       "Customer Age                    0\n",
       "Customer Gender                 0\n",
       "Product Purchased               0\n",
       "Date of Purchase                0\n",
       "Ticket Type                     0\n",
       "Ticket Subject                  0\n",
       "Ticket Description              0\n",
       "Ticket Status                   0\n",
       "Resolution                      0\n",
       "Ticket Priority                 0\n",
       "Ticket Channel                  0\n",
       "First Response Time             0\n",
       "Time to Resolution              0\n",
       "Customer Satisfaction Rating    0\n",
       "dtype: int64"
      ]
     },
     "execution_count": 29,
     "metadata": {},
     "output_type": "execute_result"
    }
   ],
   "source": [
    "df.isnull().sum()                              #Check for Missing Values"
   ]
  },
  {
   "cell_type": "code",
   "execution_count": 30,
   "id": "dab9ec1a-f926-42ff-901b-58645d4da1a0",
   "metadata": {},
   "outputs": [
    {
     "name": "stdout",
     "output_type": "stream",
     "text": [
      "(0, 17)\n"
     ]
    }
   ],
   "source": [
    "duplicate_rows = df[df.duplicated()]\n",
    "print(duplicate_rows.shape)                  #Check for Duplicates"
   ]
  },
  {
   "cell_type": "code",
   "execution_count": 31,
   "id": "d4be9b9e-09ba-4cb2-b073-b4839b915556",
   "metadata": {},
   "outputs": [
    {
     "name": "stdout",
     "output_type": "stream",
     "text": [
      "<class 'pandas.core.frame.DataFrame'>\n",
      "Index: 1900 entries, 3 to 8467\n",
      "Data columns (total 17 columns):\n",
      " #   Column                        Non-Null Count  Dtype         \n",
      "---  ------                        --------------  -----         \n",
      " 0   Ticket ID                     1900 non-null   int64         \n",
      " 1   Customer Name                 1900 non-null   object        \n",
      " 2   Customer Email                1891 non-null   object        \n",
      " 3   Customer Age                  1900 non-null   int64         \n",
      " 4   Customer Gender               1900 non-null   object        \n",
      " 5   Product Purchased             1900 non-null   object        \n",
      " 6   Date of Purchase              1900 non-null   datetime64[ns]\n",
      " 7   Ticket Type                   1900 non-null   object        \n",
      " 8   Ticket Subject                1900 non-null   object        \n",
      " 9   Ticket Description            1900 non-null   object        \n",
      " 10  Ticket Status                 1900 non-null   object        \n",
      " 11  Resolution                    1900 non-null   object        \n",
      " 12  Ticket Priority               1900 non-null   object        \n",
      " 13  Ticket Channel                1900 non-null   object        \n",
      " 14  First Response Time           1900 non-null   datetime64[ns]\n",
      " 15  Time to Resolution            1900 non-null   datetime64[ns]\n",
      " 16  Customer Satisfaction Rating  1900 non-null   float64       \n",
      "dtypes: datetime64[ns](3), float64(1), int64(2), object(11)\n",
      "memory usage: 331.7+ KB\n"
     ]
    }
   ],
   "source": [
    "df.info()                                    #Check for Consistent Data Types"
   ]
  },
  {
   "cell_type": "code",
   "execution_count": 32,
   "id": "6e1b65b7-546d-4766-b65d-a8223fe758b9",
   "metadata": {},
   "outputs": [
    {
     "data": {
      "text/html": [
       "<div>\n",
       "<style scoped>\n",
       "    .dataframe tbody tr th:only-of-type {\n",
       "        vertical-align: middle;\n",
       "    }\n",
       "\n",
       "    .dataframe tbody tr th {\n",
       "        vertical-align: top;\n",
       "    }\n",
       "\n",
       "    .dataframe thead th {\n",
       "        text-align: right;\n",
       "    }\n",
       "</style>\n",
       "<table border=\"1\" class=\"dataframe\">\n",
       "  <thead>\n",
       "    <tr style=\"text-align: right;\">\n",
       "      <th></th>\n",
       "      <th>Ticket ID</th>\n",
       "      <th>Customer Age</th>\n",
       "      <th>Date of Purchase</th>\n",
       "      <th>First Response Time</th>\n",
       "      <th>Time to Resolution</th>\n",
       "      <th>Customer Satisfaction Rating</th>\n",
       "    </tr>\n",
       "  </thead>\n",
       "  <tbody>\n",
       "    <tr>\n",
       "      <th>count</th>\n",
       "      <td>1900.000000</td>\n",
       "      <td>1900.000000</td>\n",
       "      <td>1900</td>\n",
       "      <td>1900</td>\n",
       "      <td>1900</td>\n",
       "      <td>1900.000000</td>\n",
       "    </tr>\n",
       "    <tr>\n",
       "      <th>mean</th>\n",
       "      <td>4152.978947</td>\n",
       "      <td>43.910526</td>\n",
       "      <td>2020-12-25 03:20:50.526316032</td>\n",
       "      <td>2023-06-01 11:13:14.606842112</td>\n",
       "      <td>2023-06-01 11:20:34.848947200</td>\n",
       "      <td>2.998947</td>\n",
       "    </tr>\n",
       "    <tr>\n",
       "      <th>min</th>\n",
       "      <td>4.000000</td>\n",
       "      <td>18.000000</td>\n",
       "      <td>2020-01-01 00:00:00</td>\n",
       "      <td>2023-05-31 21:55:39</td>\n",
       "      <td>2023-05-31 21:53:30</td>\n",
       "      <td>1.000000</td>\n",
       "    </tr>\n",
       "    <tr>\n",
       "      <th>25%</th>\n",
       "      <td>2034.750000</td>\n",
       "      <td>31.000000</td>\n",
       "      <td>2020-06-22 18:00:00</td>\n",
       "      <td>2023-06-01 05:14:31</td>\n",
       "      <td>2023-06-01 05:50:45.500000</td>\n",
       "      <td>2.000000</td>\n",
       "    </tr>\n",
       "    <tr>\n",
       "      <th>50%</th>\n",
       "      <td>4072.500000</td>\n",
       "      <td>44.000000</td>\n",
       "      <td>2020-12-26 00:00:00</td>\n",
       "      <td>2023-06-01 11:13:15.500000</td>\n",
       "      <td>2023-06-01 11:14:49.500000</td>\n",
       "      <td>3.000000</td>\n",
       "    </tr>\n",
       "    <tr>\n",
       "      <th>75%</th>\n",
       "      <td>6265.500000</td>\n",
       "      <td>57.000000</td>\n",
       "      <td>2021-06-26 06:00:00</td>\n",
       "      <td>2023-06-01 17:14:51</td>\n",
       "      <td>2023-06-01 17:06:55.249999872</td>\n",
       "      <td>4.000000</td>\n",
       "    </tr>\n",
       "    <tr>\n",
       "      <th>max</th>\n",
       "      <td>8468.000000</td>\n",
       "      <td>70.000000</td>\n",
       "      <td>2021-12-30 00:00:00</td>\n",
       "      <td>2023-06-02 00:54:21</td>\n",
       "      <td>2023-06-02 00:48:38</td>\n",
       "      <td>5.000000</td>\n",
       "    </tr>\n",
       "    <tr>\n",
       "      <th>std</th>\n",
       "      <td>2458.861378</td>\n",
       "      <td>15.138831</td>\n",
       "      <td>NaN</td>\n",
       "      <td>NaN</td>\n",
       "      <td>NaN</td>\n",
       "      <td>1.399616</td>\n",
       "    </tr>\n",
       "  </tbody>\n",
       "</table>\n",
       "</div>"
      ],
      "text/plain": [
       "         Ticket ID  Customer Age               Date of Purchase  \\\n",
       "count  1900.000000   1900.000000                           1900   \n",
       "mean   4152.978947     43.910526  2020-12-25 03:20:50.526316032   \n",
       "min       4.000000     18.000000            2020-01-01 00:00:00   \n",
       "25%    2034.750000     31.000000            2020-06-22 18:00:00   \n",
       "50%    4072.500000     44.000000            2020-12-26 00:00:00   \n",
       "75%    6265.500000     57.000000            2021-06-26 06:00:00   \n",
       "max    8468.000000     70.000000            2021-12-30 00:00:00   \n",
       "std    2458.861378     15.138831                            NaN   \n",
       "\n",
       "                 First Response Time             Time to Resolution  \\\n",
       "count                           1900                           1900   \n",
       "mean   2023-06-01 11:13:14.606842112  2023-06-01 11:20:34.848947200   \n",
       "min              2023-05-31 21:55:39            2023-05-31 21:53:30   \n",
       "25%              2023-06-01 05:14:31     2023-06-01 05:50:45.500000   \n",
       "50%       2023-06-01 11:13:15.500000     2023-06-01 11:14:49.500000   \n",
       "75%              2023-06-01 17:14:51  2023-06-01 17:06:55.249999872   \n",
       "max              2023-06-02 00:54:21            2023-06-02 00:48:38   \n",
       "std                              NaN                            NaN   \n",
       "\n",
       "       Customer Satisfaction Rating  \n",
       "count                   1900.000000  \n",
       "mean                       2.998947  \n",
       "min                        1.000000  \n",
       "25%                        2.000000  \n",
       "50%                        3.000000  \n",
       "75%                        4.000000  \n",
       "max                        5.000000  \n",
       "std                        1.399616  "
      ]
     },
     "execution_count": 32,
     "metadata": {},
     "output_type": "execute_result"
    }
   ],
   "source": [
    "df.describe()                                 #df.describe()"
   ]
  },
  {
   "cell_type": "code",
   "execution_count": 33,
   "id": "fa6d421b-84dd-4f91-bc4d-e5aefa79e060",
   "metadata": {},
   "outputs": [
    {
     "data": {
      "text/html": [
       "<div>\n",
       "<style scoped>\n",
       "    .dataframe tbody tr th:only-of-type {\n",
       "        vertical-align: middle;\n",
       "    }\n",
       "\n",
       "    .dataframe tbody tr th {\n",
       "        vertical-align: top;\n",
       "    }\n",
       "\n",
       "    .dataframe thead th {\n",
       "        text-align: right;\n",
       "    }\n",
       "</style>\n",
       "<table border=\"1\" class=\"dataframe\">\n",
       "  <thead>\n",
       "    <tr style=\"text-align: right;\">\n",
       "      <th></th>\n",
       "      <th>Ticket ID</th>\n",
       "      <th>Customer Name</th>\n",
       "      <th>Customer Email</th>\n",
       "      <th>Customer Age</th>\n",
       "      <th>Customer Gender</th>\n",
       "      <th>Product Purchased</th>\n",
       "      <th>Date of Purchase</th>\n",
       "      <th>Ticket Type</th>\n",
       "      <th>Ticket Subject</th>\n",
       "      <th>Ticket Description</th>\n",
       "      <th>Ticket Status</th>\n",
       "      <th>Resolution</th>\n",
       "      <th>Ticket Priority</th>\n",
       "      <th>Ticket Channel</th>\n",
       "      <th>First Response Time</th>\n",
       "      <th>Time to Resolution</th>\n",
       "      <th>Customer Satisfaction Rating</th>\n",
       "    </tr>\n",
       "  </thead>\n",
       "  <tbody>\n",
       "    <tr>\n",
       "      <th>3</th>\n",
       "      <td>4</td>\n",
       "      <td>Christina Dillon</td>\n",
       "      <td>bradleyolson@example.org</td>\n",
       "      <td>27</td>\n",
       "      <td>Female</td>\n",
       "      <td>Microsoft Office</td>\n",
       "      <td>2020-11-13</td>\n",
       "      <td>Billing inquiry</td>\n",
       "      <td>Account access</td>\n",
       "      <td>I'm having an issue with the {product_purchase...</td>\n",
       "      <td>Closed</td>\n",
       "      <td>Try capital clearly never color toward story.</td>\n",
       "      <td>Low</td>\n",
       "      <td>Social media</td>\n",
       "      <td>2023-06-01 07:29:40</td>\n",
       "      <td>2023-06-01 01:57:40</td>\n",
       "      <td>3.0</td>\n",
       "    </tr>\n",
       "    <tr>\n",
       "      <th>4</th>\n",
       "      <td>5</td>\n",
       "      <td>Alexander Carroll</td>\n",
       "      <td>bradleymark@example.com</td>\n",
       "      <td>67</td>\n",
       "      <td>Female</td>\n",
       "      <td>Autodesk AutoCAD</td>\n",
       "      <td>2020-02-04</td>\n",
       "      <td>Billing inquiry</td>\n",
       "      <td>Data loss</td>\n",
       "      <td>I'm having an issue with the {product_purchase...</td>\n",
       "      <td>Closed</td>\n",
       "      <td>West decision evidence bit.</td>\n",
       "      <td>Low</td>\n",
       "      <td>Email</td>\n",
       "      <td>2023-06-01 00:12:42</td>\n",
       "      <td>2023-06-01 19:53:42</td>\n",
       "      <td>1.0</td>\n",
       "    </tr>\n",
       "    <tr>\n",
       "      <th>10</th>\n",
       "      <td>11</td>\n",
       "      <td>Joseph Moreno</td>\n",
       "      <td>mbrown@example.org</td>\n",
       "      <td>48</td>\n",
       "      <td>Male</td>\n",
       "      <td>Nintendo Switch</td>\n",
       "      <td>2021-01-19</td>\n",
       "      <td>Cancellation request</td>\n",
       "      <td>Data loss</td>\n",
       "      <td>I'm having an issue with the {product_purchase...</td>\n",
       "      <td>Closed</td>\n",
       "      <td>Measure tonight surface feel forward.</td>\n",
       "      <td>High</td>\n",
       "      <td>Phone</td>\n",
       "      <td>2023-06-01 17:46:49</td>\n",
       "      <td>2023-05-31 23:51:49</td>\n",
       "      <td>1.0</td>\n",
       "    </tr>\n",
       "    <tr>\n",
       "      <th>11</th>\n",
       "      <td>12</td>\n",
       "      <td>Brandon Arnold</td>\n",
       "      <td>davisjohn@example.net</td>\n",
       "      <td>51</td>\n",
       "      <td>Male</td>\n",
       "      <td>Microsoft Xbox Controller</td>\n",
       "      <td>2021-10-24</td>\n",
       "      <td>Product inquiry</td>\n",
       "      <td>Software bug</td>\n",
       "      <td>I'm having an issue with the {product_purchase...</td>\n",
       "      <td>Closed</td>\n",
       "      <td>Measure there house management pick knowledge ...</td>\n",
       "      <td>High</td>\n",
       "      <td>Chat</td>\n",
       "      <td>2023-06-01 12:05:51</td>\n",
       "      <td>2023-06-01 09:27:51</td>\n",
       "      <td>1.0</td>\n",
       "    </tr>\n",
       "    <tr>\n",
       "      <th>14</th>\n",
       "      <td>15</td>\n",
       "      <td>Amy Hill</td>\n",
       "      <td>medinasteven@example.net</td>\n",
       "      <td>48</td>\n",
       "      <td>Female</td>\n",
       "      <td>Sony PlayStation</td>\n",
       "      <td>2020-02-29</td>\n",
       "      <td>Billing inquiry</td>\n",
       "      <td>Product setup</td>\n",
       "      <td>I'm having an issue with the {product_purchase...</td>\n",
       "      <td>Closed</td>\n",
       "      <td>Officer moment world sing parent available.</td>\n",
       "      <td>High</td>\n",
       "      <td>Chat</td>\n",
       "      <td>2023-06-01 06:22:55</td>\n",
       "      <td>2023-05-31 23:08:55</td>\n",
       "      <td>4.0</td>\n",
       "    </tr>\n",
       "  </tbody>\n",
       "</table>\n",
       "</div>"
      ],
      "text/plain": [
       "    Ticket ID      Customer Name            Customer Email  Customer Age  \\\n",
       "3           4   Christina Dillon  bradleyolson@example.org            27   \n",
       "4           5  Alexander Carroll   bradleymark@example.com            67   \n",
       "10         11      Joseph Moreno        mbrown@example.org            48   \n",
       "11         12     Brandon Arnold     davisjohn@example.net            51   \n",
       "14         15           Amy Hill  medinasteven@example.net            48   \n",
       "\n",
       "   Customer Gender          Product Purchased Date of Purchase  \\\n",
       "3           Female           Microsoft Office       2020-11-13   \n",
       "4           Female           Autodesk AutoCAD       2020-02-04   \n",
       "10            Male            Nintendo Switch       2021-01-19   \n",
       "11            Male  Microsoft Xbox Controller       2021-10-24   \n",
       "14          Female           Sony PlayStation       2020-02-29   \n",
       "\n",
       "             Ticket Type  Ticket Subject  \\\n",
       "3        Billing inquiry  Account access   \n",
       "4        Billing inquiry       Data loss   \n",
       "10  Cancellation request       Data loss   \n",
       "11       Product inquiry    Software bug   \n",
       "14       Billing inquiry   Product setup   \n",
       "\n",
       "                                   Ticket Description Ticket Status  \\\n",
       "3   I'm having an issue with the {product_purchase...        Closed   \n",
       "4   I'm having an issue with the {product_purchase...        Closed   \n",
       "10  I'm having an issue with the {product_purchase...        Closed   \n",
       "11  I'm having an issue with the {product_purchase...        Closed   \n",
       "14  I'm having an issue with the {product_purchase...        Closed   \n",
       "\n",
       "                                           Resolution Ticket Priority  \\\n",
       "3       Try capital clearly never color toward story.             Low   \n",
       "4                         West decision evidence bit.             Low   \n",
       "10              Measure tonight surface feel forward.            High   \n",
       "11  Measure there house management pick knowledge ...            High   \n",
       "14        Officer moment world sing parent available.            High   \n",
       "\n",
       "   Ticket Channel First Response Time  Time to Resolution  \\\n",
       "3    Social media 2023-06-01 07:29:40 2023-06-01 01:57:40   \n",
       "4           Email 2023-06-01 00:12:42 2023-06-01 19:53:42   \n",
       "10          Phone 2023-06-01 17:46:49 2023-05-31 23:51:49   \n",
       "11           Chat 2023-06-01 12:05:51 2023-06-01 09:27:51   \n",
       "14           Chat 2023-06-01 06:22:55 2023-05-31 23:08:55   \n",
       "\n",
       "    Customer Satisfaction Rating  \n",
       "3                            3.0  \n",
       "4                            1.0  \n",
       "10                           1.0  \n",
       "11                           1.0  \n",
       "14                           4.0  "
      ]
     },
     "execution_count": 33,
     "metadata": {},
     "output_type": "execute_result"
    }
   ],
   "source": [
    "df.head()"
   ]
  },
  {
   "cell_type": "markdown",
   "id": "2487f4c2-c29e-43ba-bd0f-44cbc790cc75",
   "metadata": {},
   "source": [
    "## 📈 1️⃣  Ticket Status Distribution"
   ]
  },
  {
   "cell_type": "markdown",
   "id": "c319ad73-9696-40e2-b6f6-cfb4a8f12e37",
   "metadata": {},
   "source": [
    "#### Which ticket status (Open, Closed, or Resolved) occurs most frequently?"
   ]
  },
  {
   "cell_type": "code",
   "execution_count": 34,
   "id": "96ff46cc-defb-4287-9905-926bcfe2a7fa",
   "metadata": {},
   "outputs": [
    {
     "data": {
      "image/png": "[encoded data removed]",
      "text/plain": [
       "<Figure size 600x400 with 1 Axes>"
      ]
     },
     "metadata": {},
     "output_type": "display_data"
    }
   ],
   "source": [
    "plt.figure(figsize=(6,4))\n",
    "df['Ticket Status'].value_counts().plot(kind='bar', color='skyblue')\n",
    "plt.title(\"Ticket Status Distribution\")\n",
    "plt.xlabel(\"Status\")\n",
    "plt.ylabel(\"Count\")\n",
    "plt.show()\n"
   ]
  },
  {
   "cell_type": "markdown",
   "id": "5007a15a-7232-45b2-9154-9618b0b6ed0b",
   "metadata": {},
   "source": [
    "## 📊 2️⃣ Ticket Priority Breakdown"
   ]
  },
  {
   "cell_type": "markdown",
   "id": "be28c17d-4353-4c8f-a9f9-d42d51732bd6",
   "metadata": {},
   "source": [
    "### What percentage of tickets are marked as “High Priority”?"
   ]
  },
  {
   "cell_type": "code",
   "execution_count": 35,
   "id": "ef709b6c-ca5e-4baa-ab21-07394d4659fe",
   "metadata": {},
   "outputs": [
    {
     "data": {
      "image/png": "[encoded data removed]",
      "text/plain": [
       "<Figure size 600x400 with 1 Axes>"
      ]
     },
     "metadata": {},
     "output_type": "display_data"
    }
   ],
   "source": [
    "plt.figure(figsize=(6,4))\n",
    "df['Ticket Priority'].value_counts().plot(kind='pie', autopct='%1.1f%%', startangle=90)\n",
    "plt.title(\"Ticket Priority Breakdown\")\n",
    "plt.ylabel(\"\")\n",
    "plt.show()"
   ]
  },
  {
   "cell_type": "markdown",
   "id": "88ca0b60-4283-4a39-9140-22a24bf362c9",
   "metadata": {},
   "source": [
    "## ⏱️ 3️⃣ Average Resolution Time by Priority"
   ]
  },
  {
   "cell_type": "markdown",
   "id": "d2863cd1-e33f-4030-bc99-b6abe8be30e7",
   "metadata": {},
   "source": [
    "#### Do higher priority tickets take less or more time to resolve on average?"
   ]
  },
  {
   "cell_type": "code",
   "execution_count": 36,
   "id": "836a97ba-d9d2-44bf-b36e-3471dc835ca2",
   "metadata": {},
   "outputs": [
    {
     "data": {
      "image/png": "[encoded data removed]",
      "text/plain": [
       "<Figure size 700x400 with 1 Axes>"
      ]
     },
     "metadata": {},
     "output_type": "display_data"
    }
   ],
   "source": [
    "plt.figure(figsize=(7,4))\n",
    "df.groupby('Ticket Priority')['Time to Resolution'].mean().plot(kind='bar', color='orange')\n",
    "plt.title(\"Average Resolution Time by Ticket Priority\")\n",
    "plt.xlabel(\"Ticket Priority\")\n",
    "plt.ylabel(\"Avg Resolution Time (hrs)\")\n",
    "plt.show()"
   ]
  },
  {
   "cell_type": "markdown",
   "id": "400d5ce9-dd9a-4b28-814e-07706d8afb66",
   "metadata": {},
   "source": [
    "## 🎯 4️⃣ Customer Satisfaction vs Ticket Type"
   ]
  },
  {
   "cell_type": "markdown",
   "id": "53382c9e-9e0b-4cf2-b635-5b821545afb6",
   "metadata": {},
   "source": [
    "#### Which type of ticket gives customers the highest satisfaction rating?"
   ]
  },
  {
   "cell_type": "code",
   "execution_count": 37,
   "id": "3f0f97c6-0f3a-4303-806b-c03ee1606a46",
   "metadata": {},
   "outputs": [
    {
     "data": {
      "image/png": "[encoded data removed]",
      "text/plain": [
       "<Figure size 700x400 with 1 Axes>"
      ]
     },
     "metadata": {},
     "output_type": "display_data"
    }
   ],
   "source": [
    "plt.figure(figsize=(7,4))\n",
    "df.groupby('Ticket Type')['Customer Satisfaction Rating'].mean().plot(kind='bar', color='green')\n",
    "plt.title(\"Customer Satisfaction by Ticket Type\")\n",
    "plt.xlabel(\"Ticket Type\")\n",
    "plt.ylabel(\"Average Satisfaction Rating\")\n",
    "plt.show()"
   ]
  },
  {
   "cell_type": "markdown",
   "id": "98597466-0bcc-4858-aa39-12b15b600fc2",
   "metadata": {},
   "source": [
    "## 🎯 5️⃣ Customer Gender Distribution"
   ]
  },
  {
   "cell_type": "markdown",
   "id": "0bd904be-8c58-4bf0-9e5b-f4d3c15af861",
   "metadata": {},
   "source": [
    "#### Which gender submits more support tickets — Male or Female?"
   ]
  },
  {
   "cell_type": "code",
   "execution_count": 38,
   "id": "83fd815d-d42d-4c82-a099-19574f0059ba",
   "metadata": {},
   "outputs": [
    {
     "data": {
      "image/png": "[encoded data removed]",
      "text/plain": [
       "<Figure size 500x400 with 1 Axes>"
      ]
     },
     "metadata": {},
     "output_type": "display_data"
    }
   ],
   "source": [
    "plt.figure(figsize=(5,4))\n",
    "df['Customer Gender'].value_counts().plot(kind='bar', color=['lightcoral', 'lightblue'])\n",
    "plt.title(\"Customer Gender Distribution\")\n",
    "plt.xlabel(\"Gender\")\n",
    "plt.ylabel(\"Count\")\n",
    "plt.show()"
   ]
  },
  {
   "cell_type": "markdown",
   "id": "93a4517e-d923-4d9e-91aa-12f953f9a469",
   "metadata": {},
   "source": [
    "## 🎯 6️⃣ Purchase Trend Over Time"
   ]
  },
  {
   "cell_type": "markdown",
   "id": "10596f17-afa5-492e-b636-b7a72f9d2a31",
   "metadata": {},
   "source": [
    "#### In which month were the most tickets raised?"
   ]
  },
  {
   "cell_type": "code",
   "execution_count": 39,
   "id": "94231d44-b5fb-4182-bcc4-5c75138b903e",
   "metadata": {},
   "outputs": [
    {
     "data": {
      "image/png": "[encoded data removed]",
      "text/plain": [
       "<Figure size 1000x400 with 1 Axes>"
      ]
     },
     "metadata": {},
     "output_type": "display_data"
    }
   ],
   "source": [
    "df['Date of Purchase'] = pd.to_datetime(df['Date of Purchase'])\n",
    "monthly_tickets = df.groupby(df['Date of Purchase'].dt.to_period('M')).size()\n",
    "\n",
    "plt.figure(figsize=(10,4))\n",
    "monthly_tickets.plot(kind='line', marker='o')\n",
    "plt.title(\"Tickets Over Time\")\n",
    "plt.xlabel(\"Month\")\n",
    "plt.ylabel(\"Number of Tickets\")\n",
    "plt.show()"
   ]
  },
  {
   "cell_type": "markdown",
   "id": "e23ef4d9-3df2-4fd3-986a-df197f311c28",
   "metadata": {},
   "source": [
    "## 🎯 7️⃣ Average Response Time by Channel"
   ]
  },
  {
   "cell_type": "markdown",
   "id": "272f8bf9-ff59-4bc8-9b5f-f3e0e69f41f2",
   "metadata": {},
   "source": [
    "#### Which communication channel gives the fastest first response to customers?"
   ]
  },
  {
   "cell_type": "code",
   "execution_count": 40,
   "id": "3594e2a8-ad61-47e3-a3b5-db09406cac49",
   "metadata": {},
   "outputs": [
    {
     "data": {
      "image/png": "[encoded data removed]",
      "text/plain": [
       "<Figure size 700x400 with 1 Axes>"
      ]
     },
     "metadata": {},
     "output_type": "display_data"
    }
   ],
   "source": [
    "plt.figure(figsize=(7,4))\n",
    "df.groupby('Ticket Channel')['First Response Time'].mean().plot(kind='bar', color='purple')\n",
    "plt.title(\"Average First Response Time by Channel\")\n",
    "plt.xlabel(\"Ticket Channel\")\n",
    "plt.ylabel(\"Avg Response Time (hrs)\")\n",
    "plt.show()"
   ]
  },
  {
   "cell_type": "code",
   "execution_count": 41,
   "id": "c0ca3ae5-2ee3-4d69-83d1-2477aaf1e35d",
   "metadata": {},
   "outputs": [],
   "source": [
    "df.to_csv('ticket_analysis.csv',index=False)"
   ]
  }
 ],
 "metadata": {
  "kernelspec": {
   "display_name": "Python 3 (ipykernel)",
   "language": "python",
   "name": "python3"
  },
  "language_info": {
   "codemirror_mode": {
    "name": "ipython",
    "version": 3
   },
   "file_extension": ".py",
   "mimetype": "text/x-python",
   "name": "python",
   "nbconvert_exporter": "python",
   "pygments_lexer": "ipython3",
   "version": "3.12.7"
  }
 },
 "nbformat": 4,
 "nbformat_minor": 5
}
